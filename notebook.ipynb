{
 "cells": [
  {
   "cell_type": "markdown",
   "source": "# Wikipedia Python Package ",
   "metadata": {
    "cell_id": "c6ac2d1b-cf62-467f-9688-a44e65c76bb6",
    "tags": [],
    "is_collapsed": false,
    "deepnote_app_coordinates": {
     "x": 0,
     "y": 12,
     "w": 12,
     "h": 5
    },
    "deepnote_cell_type": "text-cell-h1"
   }
  },
  {
   "cell_type": "markdown",
   "source": " A simple walkthrough of the library functions, showcasing the basic usage of this cool python package.",
   "metadata": {
    "cell_id": "4587cd31-8cec-4263-b86a-9b909cb97c9e",
    "tags": [],
    "is_collapsed": false,
    "deepnote_app_coordinates": {
     "x": 0,
     "y": 177,
     "w": 8,
     "h": 2
    },
    "deepnote_cell_type": "text-cell-p"
   }
  },
  {
   "cell_type": "markdown",
   "source": "",
   "metadata": {
    "cell_id": "0c862b50-ee32-4ae1-9824-d7cf5d3b8387",
    "tags": [],
    "is_collapsed": false,
    "deepnote_app_coordinates": {
     "x": 0,
     "y": 18,
     "w": 8,
     "h": 2
    },
    "deepnote_cell_type": "text-cell-p"
   }
  },
  {
   "cell_type": "markdown",
   "source": "### Import Wikipedia module",
   "metadata": {
    "cell_id": "446bd0d9-73aa-45b8-8f3a-5a5479b4ee96",
    "tags": [],
    "is_collapsed": false,
    "deepnote_app_coordinates": {
     "x": 0,
     "y": 39,
     "w": 12,
     "h": 5
    },
    "deepnote_cell_type": "text-cell-h3"
   }
  },
  {
   "cell_type": "code",
   "metadata": {
    "cell_id": "9f2e12d7-ae84-48ee-a7a2-60d373d390e0",
    "tags": [],
    "deepnote_to_be_reexecuted": false,
    "source_hash": "c6047094",
    "execution_start": 1646429635583,
    "execution_millis": 154,
    "deepnote_app_coordinates": {
     "x": 0,
     "y": 21,
     "w": 12,
     "h": 5
    },
    "deepnote_cell_type": "code"
   },
   "source": "# pip install wikipedia\nimport wikipedia",
   "outputs": [],
   "execution_count": null
  },
  {
   "cell_type": "markdown",
   "source": "### List the methods using 'dir' function",
   "metadata": {
    "cell_id": "5a063958-a63b-4df7-bc73-157a1c22fe96",
    "tags": [],
    "is_collapsed": false,
    "deepnote_app_coordinates": {
     "x": 0,
     "y": 45,
     "w": 12,
     "h": 5
    },
    "deepnote_cell_type": "text-cell-h3"
   }
  },
  {
   "cell_type": "code",
   "metadata": {
    "cell_id": "0a816d67-c413-4c76-8c15-60e18144afe8",
    "tags": [],
    "deepnote_to_be_reexecuted": false,
    "source_hash": "6c04dac7",
    "execution_start": 1646429635780,
    "execution_millis": 3,
    "deepnote_app_coordinates": {
     "x": 0,
     "y": 6,
     "w": 12,
     "h": 5
    },
    "deepnote_cell_type": "code"
   },
   "source": "dir(wikipedia)",
   "outputs": [
    {
     "output_type": "execute_result",
     "execution_count": 2,
     "data": {
      "text/plain": "['API_URL',\n 'BeautifulSoup',\n 'Decimal',\n 'DisambiguationError',\n 'HTTPTimeoutError',\n 'ODD_ERROR_MESSAGE',\n 'PageError',\n 'RATE_LIMIT',\n 'RATE_LIMIT_LAST_CALL',\n 'RATE_LIMIT_MIN_WAIT',\n 'RedirectError',\n 'USER_AGENT',\n 'WikipediaException',\n 'WikipediaPage',\n '__builtins__',\n '__cached__',\n '__doc__',\n '__file__',\n '__loader__',\n '__name__',\n '__package__',\n '__path__',\n '__spec__',\n '__version__',\n 'cache',\n 'datetime',\n 'debug',\n 'donate',\n 'exceptions',\n 'geosearch',\n 'languages',\n 'page',\n 'random',\n 're',\n 'requests',\n 'search',\n 'set_lang',\n 'set_rate_limiting',\n 'set_user_agent',\n 'stdout_encode',\n 'suggest',\n 'summary',\n 'sys',\n 'time',\n 'timedelta',\n 'unicode_literals',\n 'util',\n 'wikipedia']"
     },
     "metadata": {}
    }
   ],
   "execution_count": null
  },
  {
   "cell_type": "markdown",
   "source": "### Search for any Wiki article using a 'Search query' as an argument",
   "metadata": {
    "cell_id": "8e56ce56-38d1-477e-99b8-2dffe0c796f5",
    "tags": [],
    "is_collapsed": false,
    "deepnote_app_coordinates": {
     "x": 0,
     "y": 51,
     "w": 12,
     "h": 5
    },
    "deepnote_cell_type": "text-cell-h3"
   }
  },
  {
   "cell_type": "code",
   "metadata": {
    "cell_id": "2b73e17e-4892-47d1-a2fd-f6a769525f4c",
    "tags": [],
    "deepnote_to_be_reexecuted": false,
    "source_hash": "f422eac9",
    "execution_start": 1646429635781,
    "execution_millis": 810,
    "deepnote_app_coordinates": {
     "x": 0,
     "y": 0,
     "w": 12,
     "h": 5
    },
    "deepnote_cell_type": "code"
   },
   "source": "wikipedia.search('Swiss German')",
   "outputs": [
    {
     "output_type": "execute_result",
     "execution_count": 3,
     "data": {
      "text/plain": "['Swiss German',\n 'Swiss Standard German',\n 'German-speaking Switzerland',\n 'Swiss people',\n 'Languages of Switzerland',\n 'Germany–Switzerland border',\n 'Swiss-German',\n 'Swiss German University',\n 'QWERTZ',\n 'Switzerland']"
     },
     "metadata": {}
    }
   ],
   "execution_count": null
  },
  {
   "cell_type": "markdown",
   "source": "### Instantiate a Wikipedia article object with a 'Search query' supplied as an argument",
   "metadata": {
    "cell_id": "26a05dd8-9f11-4003-ab07-9fd573b981c8",
    "tags": [],
    "is_collapsed": false,
    "deepnote_app_coordinates": {
     "x": 0,
     "y": 111,
     "w": 12,
     "h": 5
    },
    "deepnote_cell_type": "text-cell-h3"
   }
  },
  {
   "cell_type": "code",
   "metadata": {
    "cell_id": "828f93e7-28d0-4dc4-a4ef-00c0b12a2f95",
    "tags": [],
    "deepnote_to_be_reexecuted": false,
    "source_hash": "441a7755",
    "execution_start": 1646429636203,
    "execution_millis": 614,
    "deepnote_app_coordinates": {
     "x": 0,
     "y": 27,
     "w": 12,
     "h": 5
    },
    "deepnote_cell_type": "code"
   },
   "source": "swiss_german = wikipedia.page('Swiss German')",
   "outputs": [],
   "execution_count": null
  },
  {
   "cell_type": "markdown",
   "source": "### Access the Summary section of the Wiki Article using the '.summary' method",
   "metadata": {
    "cell_id": "ac3c8610-1ef8-42d6-8f21-809c63c2a9e9",
    "tags": [],
    "is_collapsed": false,
    "deepnote_app_coordinates": {
     "x": 0,
     "y": 123,
     "w": 12,
     "h": 5
    },
    "deepnote_cell_type": "text-cell-h3"
   }
  },
  {
   "cell_type": "code",
   "metadata": {
    "cell_id": "d5a458ed-9590-41e3-9299-7c5a87938c65",
    "tags": [],
    "deepnote_to_be_reexecuted": false,
    "source_hash": "17470670",
    "execution_start": 1646429737739,
    "execution_millis": 3,
    "deepnote_app_coordinates": {
     "x": 0,
     "y": 87,
     "w": 12,
     "h": 5
    },
    "deepnote_cell_type": "code"
   },
   "source": "print(swiss_german.summary)",
   "outputs": [
    {
     "name": "stdout",
     "text": "Schweizerdeutsch (Eigenbezeichnung Schwizerdütsch, Schwizertütsch, Schwyzerdütsch, Schwyzertü(ü)tsch und ähnlich, französisch Suisse allemand, italienisch Svizzero tedesco, rätoromanisch Tudestg svizzer) ist eine Sammelbezeichnung für die in der Deutschschweiz von allen Gesellschaftsschichten gesprochenen alemannischen Dialekte.\nÜberdacht wird das Schweizerdeutsche von der schweizerischen Varietät des Standarddeutschen, dem Schweizer Hochdeutsch (in der Schweiz: Hochdeutsch oder Schriftdeutsch), von dem es sich stark unterscheidet. Die Überdachung beschränkt sich vorwiegend auf den Wortschatz und hat keine regionalen, mehr oder weniger standardnahen Umgangssprachen hervorgebracht.\n",
     "output_type": "stream"
    }
   ],
   "execution_count": null
  },
  {
   "cell_type": "markdown",
   "source": "### Access the full Content of the Wiki Article using the '.content' method",
   "metadata": {
    "cell_id": "1c36c141-c583-4b58-b7fe-f2abe1e0c1c6",
    "tags": [],
    "is_collapsed": false,
    "deepnote_app_coordinates": {
     "x": 0,
     "y": 129,
     "w": 12,
     "h": 5
    },
    "deepnote_cell_type": "text-cell-h3"
   }
  },
  {
   "cell_type": "code",
   "metadata": {
    "cell_id": "1ac729e1-db7f-438e-91cd-0b0f1409a83e",
    "tags": [],
    "deepnote_to_be_reexecuted": false,
    "source_hash": "2451e975",
    "execution_start": 1646429637038,
    "execution_millis": 311,
    "deepnote_app_coordinates": {
     "x": 0,
     "y": 33,
     "w": 12,
     "h": 5
    },
    "deepnote_cell_type": "code"
   },
   "source": "print(swiss_german.content)",
   "outputs": [
    {
     "name": "stdout",
     "text": "Swiss German (Standard German: Schweizerdeutsch, Alemannic German: Schwiizerdütsch, Schwyzerdütsch, Schwiizertüütsch, Schwizertitsch Mundart, and others) is any of the Alemannic dialects spoken in the German-speaking part of Switzerland and in some Alpine communities in Northern Italy bordering Switzerland. Occasionally, the Alemannic dialects spoken in other countries are grouped together with Swiss German as well, especially the dialects of Liechtenstein and Austrian Vorarlberg, which are closely associated to Switzerland's.Linguistically, Alemannic is divided into Low, High and Highest Alemannic, varieties all of which are spoken both inside and outside Switzerland. The only exception within German-speaking Switzerland is the municipality of Samnaun, where a Bavarian dialect is spoken. The reason \"Swiss German\" dialects constitute a special group is their almost unrestricted use as a spoken language in practically all situations of daily life, whereas the use of the Alemannic dialects in other countries is restricted or even endangered.The dialects of Swiss German must not be confused with Swiss Standard German, the variety of Standard German used in Switzerland. Most people in Germany do not understand Swiss German. Therefore, when an interview with a Swiss German speaker is shown on German television, subtitles are required. Although Swiss German is the native language, from age 6, Swiss school students additionally learn Swiss Standard German at school and are thus capable of understanding, writing and speaking Standard German with varying abilities mainly based on the level of education.\n\n\n== Use ==\nUnlike most regional languages in modern Europe, Swiss German is the spoken everyday language for the majority of all social levels in industrial cities, as well as in the countryside. Using the dialect conveys neither social nor educational inferiority and is done with pride. There are a few settings where speaking Standard German is demanded or polite, e.g., in education (but not during breaks in school lessons, where the teachers will speak in the dialect with students), in multilingual parliaments (the federal parliaments and a few cantonal and municipal ones), in the main news broadcast or in the presence of non-Alemannic speakers. This situation has been called a \"medial diglossia\", since the spoken language is mainly the dialect, whereas the written language is mainly (the Swiss variety of) Standard German.\nIn 2014, about 87% of the people living in the German-speaking portion of Switzerland were using Swiss German in their everyday lives.Swiss German is intelligible to speakers of other Alemannic dialects, but largely unintelligible to speakers of Standard German without adequate prior exposure, including for French- or Italian-speaking Swiss who learn Standard German at school. Swiss German speakers on TV or in films are thus usually dubbed or subtitled if shown in Germany.\nDialect rock is a music genre using the language; many Swiss rock bands, however, alternatively rather sing in English.\nThe Swiss Amish of Adams County, Indiana, and their daughter settlements also use a form of Swiss German.\n\n\n== Variation and distribution ==\nSwiss German is a regional or political umbrella term, not a linguistic unity. For all Swiss-German dialects, there are idioms spoken outside Switzerland that are more closely related to them than to some other Swiss-German dialects. The main linguistic divisions within Swiss German are those of Low, High and Highest Alemannic, and mutual intelligibility across those groups is almost fully seamless, despite some differences in vocabulary. Low Alemannic is only spoken in the northernmost parts of Switzerland, in Basel and around Lake Constance. High Alemannic is spoken in most of the Swiss Plateau, and is divided in an eastern and a western group. Highest Alemannic is spoken in the Alps.\n\nLow Alemannic:\nBasel German in Basel-Stadt (BS), closely related to Alsatian\nHigh Alemannic:\nwestern:\nBernese German, in the Swiss Plateau parts of Bern (BE)\ndialects of Basel-Landschaft (BL)\ndialects of Solothurn (SO)\ndialects of the western part of Aargau (AG)\nin a middle position between eastern and western:\ndialects in the eastern part of Aargau (AG)\ndialects of Lucerne (LU)\ndialects of Zug (ZG)\nZürich German, in Zürich (ZH)\neastern:\ndialects of St. Gallen (SG)\ndialects of Appenzell (AR & AI)\ndialects of Thurgau (TG)\ndialects of Schaffhausen (SH)\ndialects in parts of Graubünden (GR)\nHighest Alemannic:\ndialects in parts of Canton of Fribourg (FR)\ndialects of the Bernese Oberland (BE)\ndialects of Unterwalden (OW & NW) and Uri (UR)\ndialects of Schwyz (SZ)\ndialects of Glarus (GL)\nWalliser German in parts of the Valais (VS)\nWalser German: due to the medieval migration of the Walser, Highest Alemannic spread to pockets of what are now parts of northern Italy (Piedmont), the north-west of Ticino (TI), parts of Graubünden (GR), Liechtenstein and Vorarlberg.One can separate each dialect into numerous local subdialects, sometimes down to a resolution of individual villages. Speaking the dialect is an important part of regional, cantonal and national identities. In the more urban areas of the Swiss plateau, regional differences are fading due to increasing mobility and to a growing population of non-Alemannic background. Despite the varied dialects, the Swiss can still understand one another, but may particularly have trouble understanding Walliser dialects.\n\n\n== History ==\nMost Swiss German dialects, being High German dialects, have completed the High German consonant shift (synonyms: Second Germanic consonant shift, High German sound shift), that is, they have not only changed t to [t͡s] or [s] and p to [p͡f] or [f], but also k to [k͡x] or [x]. There are, however, exceptions, namely the idioms of Chur and Basel. Basel German is a Low Alemannic dialect (mostly spoken in Germany near the Swiss border), and Chur German is basically High Alemannic without initial [x] or [k͡x].\nExamples:\n\nThe High German consonant shift happened between the 4th and 9th centuries south of the Benrath line, separating High German from Low German, where high refers to the geographically higher regions of the German-speaking area of those days (combining Upper German and Central German varieties - also referring to their geographical locations).\nNorth of the Benrath line up to the North Sea, this consonant shift did not happen.\nThe Walser migration, which took place between the 12th and 13th centuries, spread upper Wallis varieties towards the east and south, into Grisons and even further to western Austria and northern Italy. Informally, a distinction is made between the German-speaking people living in the canton of Valais, the Walliser, and the migrated ones, the Walsers (to be found mainly in Graubünden, Vorarlberg in Western Austria, Ticino in South Switzerland, south of the Monte Rosa mountain chain in Italy (e.g. in Issime in the Aosta valley), Tirol in North Italy, and Allgäu in Bavaria).\nGenerally, the Walser communities were situated on higher alpine regions, so were able to stay independent of the reigning forces of those days, who did not or were not able to follow and monitor them all the time necessary at these hostile and hard to survive areas. So, the Walser were pioneers of the liberalization from serfdom and feudalism. And, Walser villages are easily distinguishable from Grisonian ones, since Walser houses are made of wood instead of stone.\n\n\n== Phonology ==\n\n\n=== Consonants ===\nLike all other Southern German dialects, Swiss German dialects have no voiced obstruents. However, they have an opposition of consonant pairs such as [t] and [d] or [p] and [b]. Traditionally, that distinction is said to be a distinction of fortis and lenis, but it has been claimed to be a distinction of quantity.Swiss German keeps the fortis–lenis opposition at the end of words. There can be minimal pairs such as graad [ɡ̊raːd̥] 'straight' and Graat [ɡ̊raːt] 'arête' or bis [b̥ɪz̥] 'be (imp.)' and Biss [b̥ɪs] 'bite'. That distinguishes Swiss German and Swiss Standard German from German Standard German, which neutralizes the fortis–lenis opposition at the ends of words. The phenomenon is usually called final-obstruent devoicing even though, in the case of German, phonetic voice may not be involved.\nSwiss German /p, t, k/ are not aspirated. Aspirated [pʰ, tʰ, kʰ] have (in most dialects) secondarily developed by combinations of prefixes with word-initial /h/ or by borrowings from other languages (mainly Standard German): /ˈphaltə/ 'keep' (standard German behalten [bəˈhaltn̩]); /ˈtheː/ 'tea' (standard German Tee [ˈtʰeː]); /ˈkhalt/ 'salary' (standard German Gehalt [ɡəˈhalt]). In the dialects of Basel and Chur, aspirated /k/ is also present in native words. All typically voiced consonant sounds are voiceless. Stop sounds being /b̥ d̥ ɡ̊/, and fricatives as /v̥ z̥ ɣ̊ ʒ̊/.\nUnlike Standard German, Swiss German /x/ does not have the allophone [ç] but is typically [x], with allophones [ʁ̥ – χ]. The typical Swiss shibboleth features this sound: Chuchichäschtli ('kitchen cupboard'), pronounced [ˈχuχːiˌχæʃtli].\nMost Swiss German dialects have gone through the Alemannic n-apocope, which has led to the loss of final -n in words such as Garte 'garden' (standard German Garten) or mache 'to make' (standard German machen). In some Highest Alemannic dialects, the n-apocope has also been effective in consonant clusters, for instance in Hore 'horn' (High Alemannic Horn) or däiche 'to think' (High Alemannic dänke). Only the Highest Alemannic dialects of the Lötschental and of the Haslital have preserved the -n.\nThe phoneme /r/ is pronounced as an alveolar trill [r] in many dialects, but some dialects, especially in the Northeast or in the Basel region, have a uvular trill [ʀ], and other allophones resulting in fricatives and an approximant as [ʁ ʁ̥ ʁ̞] like in many German varieties of Germany.\nIn Bernese German, an [l – lː] can be pronounced as a [w – wː]. It may also be pronounced this way when occurring towards the end of a syllable.\nA labiodental approximant [ʋ] is used in Bernese German, as the [v] sound is present in Standard German. In Walser German, it is realized as a labiodental fricative [v].\n\n\n=== Vowels ===\n\nMost Swiss German dialects have rounded front vowels, unlike other High German dialects. Only in Low Alemannic dialects of northwestern Switzerland (mainly Basel) and in Walliser dialects have rounded front vowels been unrounded. In Basel, rounding is being reintroduced because of the influence of other Swiss German dialects.\nLike Bavarian dialects, Swiss German dialects have preserved the opening diphthongs of Middle High German: /iə̯, uə̯, yə̯/: in /liə̯b̥/ 'lovely' (standard German lieb but pronounced /liːp/); /huə̯t/ 'hat' (standard German Hut /huːt/); /xyə̯l/ 'cool' (Standard German kühl /kyːl/). Some diphthongs have become unrounded in several dialects. In the Zürich dialect, short pronunciations of /i y u/ are realized as [ɪ ʏ ʊ]. Sounds like the monophthong [ɒ] can frequently become unrounded to [ɑ] among many speakers of the Zürich dialect. Vowels such as a centralized [a] and an open-mid [ɔ] only occur in the Bernese dialect.Like in Low German, most Swiss German dialects have preserved the old West-Germanic monophthongs /iː, uː, yː/: /pfiːl/ 'arrow' (Standard German Pfeil /pfaɪ̯l/); /b̥uːx/ 'belly' (Standard German Bauch /baʊ̯x/); /z̥yːlə/ 'pillar' (Standard German Säule /zɔʏ̯lə/). A few Alpine dialects show diphthongization, like in Standard German, especially some dialects of Unterwalden and Schanfigg (Graubünden) and the dialect of Issime (Piedmont).\n\nSome Western Swiss German dialects like Bernese German have preserved the old diphthongs /ei̯, ou̯/, but the other dialects have /ai̯, au̯/ like Standard German or /æi̯, æu̯/. Zürich German, and some other dialects distinguish primary diphthongs from secondary ones that arose in hiatus: Zürich German /ai̯, au̯/ from Middle High German /ei̯, ou̯/ versus Zürich German /ei̯, ou̯/ from Middle High German /iː, uː/; Zürich German /bai̯, frau̯/ 'leg, woman' from Middle High German bein, vrouwe versus Zürich German /frei̯, bou̯/ 'free, building' from Middle High German frī, būw.\n\n\n=== Suprasegmentals ===\nIn many Swiss German dialects, consonant length and vowel length are independent from each other, unlike other modern Germanic languages. Here are examples from Bernese German:\n\nLexical stress is more often on the first syllable than in Standard German, even in French loans like [ˈmɛrsːi] or [ˈmersːi] \"thanks\" (despite stress falling on the final syllable in French). However, there are many different stress patterns, even within dialects. Bernese German has many words that are stressed on the first syllable: [ˈkaz̥inɔ] 'casino' while Standard German has [kʰaˈziːno]. However, no Swiss German dialect is as consistent as Icelandic in that respect.\n\n\n== Grammar ==\nThe grammar of Swiss dialects has some specialties compared to Standard German:\n\nThere is no preterite indicative (yet there is a preterite subjunctive).\nThe preterite is replaced by perfect constructs (this also happens in spoken Standard German, particularly in Southern Germany and Austria).\nIt is still possible to form pluperfect phrases, by applying the perfect construct twice to the same sentence.\nThere is no genitive case, though certain dialects have preserved a possessive genitive (for instance in rural Bernese German). The genitive case is replaced by two constructions: The first of these is often acceptable in Standard German as well: possession + Prp. vo (std. German von) + possessor: es Buech vomene Profässer vs. Standard German ein Buch von einem Professor (\"a book of a professor\"), s Buech vom Profässer vs. Standard German das Buch des Professors (\"the professor's book\"). The second is still frowned on where it appears in Standard German (from dialects and spoken language): dative of the possessor + the possessive pronoun referring to the possessor + possession: em Profässer sis Buech (\"the professor his book\").\nThe order within verb groups may vary, e.g. wo du bisch cho/wo du cho bisch vs. standard German als du gekommen bist \"when you have come/came\". In fact, dependencies can be arbitrarily cross-serial, making Swiss German one of the few known non-context-free natural languages.\nAll relative clauses are introduced by the relative particle wo ('where'), never by the relative pronouns der, die, das, welcher, welches as in Standard German, e.g. ds Bispil, wo si schrybt vs. Standard German das Beispiel, das sie schreibt ('the example that she writes'); ds Bispil, wo si dra dänkt vs. Standard German das Beispiel, woran sie denkt ('the example that she thinks of'). Whereas the relative particle wo replaces the Standard German relative pronouns in the Nom. (subject) and Acc. (direct object) without further complications, in phrases where wo plays the role of an indirect object, a prepositional object, a possessor or an adverbial adjunct it has to be taken up later in the relative clause by reference of (prp. +) the personal pronoun (if wo refers to a person) or the pronominal adverb (if wo refers to a thing). E.g. de Profässer won i der s Buech von em zeiget ha (\"the professor whose book I showed you\"), de Bärg wo mer druf obe gsii sind (\"the mountain that we were upon\").\n\n\n=== Reduplication Verbs ===\nOverview\nIn Swiss German, a small number of verbs reduplicate in a reduced infinitival form, i.e. unstressed shorter form, when used in their finite form governing the infinitive of another verb.  The reduced and reduplicated part of the verb in question is normally put in front of the infinitive of the second verb.  This is the case for the motion verbs gaa ‘to go’ and choo ‘to come’ when used in the meaning of “go (to) do something”, “come (to) do something”, as well as the verbs laa ‘to let’ and in certain dialects afaa ‘to start, to begin’ when used in the meaning of “let do something”, or “start doing something”.  Most affected by this phenomenon is the verb gaa, followed by choo.  Both laa and afaa are less affected and only when used in present tense declarative main clauses.Declarative Sentence Examples: \n\nAs the examples show, all verbs are reduplicated with a reduced infinitival form when used in a declarative main clause.  This is especially interesting as it stands in contrast to the standard variety of German and other varieties of the same, where such doubling effects are not found as outlined in the examples.afaa ‘to start, to begin’: weakest doubling effects \nReduplication effects are weaker in the verbs laa ‘to let’ and afaa ‘to start, to begin’ than they are in gaa ‘to go’ and choo ‘to come’.  This means that afaa is most likely to be used without its reduplicated and reduced form while retaining grammaticality, whereas utterances with goo are least likely to remain grammatical without the reduplicated part.\nBetween laa and afaa, these effects are weakest in afaa.  This means that while reduplication is mandatory for laa in declarative main clauses almost everywhere in the country, this is the case for fewer varieties of Swiss German with afaa. The reason for this is unknown, but it has been hypothesized that the fact that afaa has a separable prefix (a-) might weaken its doubling capacity. The presence of this separable prefix also makes the boundaries between the reduced infinitival reduplication form and the prefix hard if not impossible to determine.  Thus, in the example above for afaa, an argument could be made that the prefix a- is left off, while the full reduplicated form is used:\n\nIn this case, the prefix would be omitted, which is normally not permissible for separable prefixes, and in its place, the reduplication form is used. \nMeanwhile, afaa is not reduplicated when used in a subordinate clause or in the past tense.  In such instances, doubling would result in ungrammaticality: \nPast tense example with afaa: \n\nThe same is true for subordinate clauses and the verb afaa: \nSubordinate clause examples with afaa: \n\nIn order to achieve grammaticality in both instances, the reduced doubling part afa would have to be taken out. \nlaa 'to let' and optionality of reduplication \nWhile afaa ‘to start, to begin’ is quite restricted when it comes to reduplication effects, the phenomenon is more permissive, but not mandatory in the verb laa ‘to let’.  While present tense declarative sentences are generally ungrammatical when laa remains unduplicated, this is not true for past tense and subordinate clauses, where doubling effects are optional at best:\nPast tense example with laa: \n\nSubordinate clause example with laa: \n\nIn the use of this form, there are both geographical and age differences.  Reduplication is found more often in the western part of Switzerland than in the eastern part, while younger generations are much more inclined to leave out reduplication, which means that the phenomenon is more widespread in older generations.gaa 'to go' and choo 'to come': stronger reduplication\nUngrammaticality in reduplication of afaa ‘to start, to begin’ in the past tense and in subordinate clauses as well as the somewhat more lenient use of reduplication with laa ‘to let’ stand in contrast to doubling effects of the motion verbs gaa ‘to go’ and choo ‘to come’.  When the latter two verbs are used in other utterances other than a declarative main clause, where the finite verb traditionally is in second position, their use might not be mandatory; however, it is correct and grammatical to double them both in the past tense and in subordinate clauses:\nPast tense example with gaa and choo\n\nAs outlined in both examples, the reduplicated form of both gaa and choo can but does not have to be used in order for the past tense sentences to be grammatical.  It is interesting to note that it is the reduced form of both verbs that is necessary, not the full participle form.\nSubordinate clause examples for gaa and choo: \n\nIn subordinate clauses, the reduplicated part is needed as the sentence would otherwise be ungrammatical in both gaa and choo.The same is true for the past tense.  Since there is only one past tense in Swiss German and since this is formed using an auxiliary verb – sii ‘to be’ or haa ‘to have’, depending on the main verb – reduplication seems to be affected and therefore, less strictly enforced for gaa and choo, while it is completely ungrammatical for afaa and optional for laa respectively. \nQuestions\nQuestions behave a lot like their declarative counterparts, and reduplication is therefore mandatory for both motion verbs gaa ‘to go’ and choo ‘to come’, while laa ‘to let’ and afaa ‘to start, to begin’ show weaker doubling effects and more optionality. Furthermore, this is the case for both open and close (yes/no) questions.  Consider the following examples:\nafaa in open and close questions:\n\nJust like in declarative forms, afaa could be reduced to a- and thus be considered the detachable prefix.  In this case, afaa would no longer be a reduplicated verb, and that is where the language development seems to move towards.laa in open and close questions: \n\nchoo and especially gaa, however, don’t allow for their reduced doubling part to be left out in questions, irrespective of the fact whether they are open or close:\nchoo in open and close questions: \n\ngaa in open and close questions: \n\nImperative Mood\nIn the imperative mood, just like in questions, gaa ‘to go’ and choo ‘come’ are very strict in their demand for doubling. The same is true for laa ‘to let’; it is ungrammatical to use it in imperative mood undoubled.  On the other hand, afaa leaves a lot more room for the speaker to play with.  Speakers accept both sentences with only the detachable prefix and no doubling, and sentences with the full doubled form.\nImperative mood: gaa\n\nImperative mood: choo\n\nImperative mood: “laa”\n\nImperative mood: afaa\n\nCross-doubling with the verb choo 'to come' and gaa 'to go' \nIn the case of the verb choo ‘to come’, there are situations when instead of it being reduplicated with its reduced form cho, the doubled short form of gaa ‘to go’, go, is used instead. This is possible in almost all instances of choo, regardless of mood or tense.  The examples below outline choo reduplicated with both its reduced form cho and the reduced form of gaa, go, in different sentence forms.  \nDeclarative main clause, present tense\n\nDeclarative main clause past tense \n\nSubordinate clause\n\nImperative mood\n\nMultiple reduplication in gaa 'to go' and choo 'to come': goge, choge\nWith the motion verbs gaa ‘to go’ and choo ‘to come’, where reduplication effects are strongest, there is some variation regarding their reduplicated or reduced forms.  Thus, in some Swiss German dialects, gaa will be doubled as goge, while choo will be doubled as choge.  In some analyses, this is described as a multiple reduplication phenomenon in that the reduced infinitives go or cho part is repeated as ge, providing the forms goge and choge. However, these forms are used less frequently than their shorter counterparts and seem to be concentrated into a small geographic area of Switzerland.\n\n\n== Vocabulary ==\nThe vocabulary is varied, especially in rural areas: many specialized terms have been retained, e.g., regarding cattle or weather. In the cities, much of the rural vocabulary has been lost. A Swiss German greeting is Grüezi, from Gott grüez-i (Standard German Gott grüsse Euch), loosely meaning \"God bless you\".Most word adoptions come from Standard German. Many of these are now so common that they have totally replaced the original Swiss German words, e.g. the words Hügel 'hill' (instead of Egg, Bühl), Lippe 'lip' (instead of Lëfzge). Others have replaced the original words only in parts of Switzerland, e.g., Butter 'butter' (originally called Anken in most of Switzerland). Virtually any Swiss Standard German word can be borrowed into Swiss German, always adapted to Swiss German phonology. However, certain Standard German words are never used in Swiss German, for instance Frühstück 'breakfast', niedlich 'cute' or zu hause 'at home'; instead, the native words Zmorge, härzig and dehei are used.\nSwiss dialects have quite a few words from French and Italian, which are perfectly assimilated. Glace (ice cream) for example is pronounced /ɡlas/ in French but [ˈɡ̊lasːeː] or [ˈɡ̊lasːə] in many Swiss German dialects. The French word for 'thank you', merci, is also used as in merci vilmal (lit. 'thanks many times', cf. Standard German's danke vielmals and vielen Dank). Possibly, these words are not direct adoptions from French but survivors of the once more numerous French loanwords in Standard German, many of which have fallen out of use in Germany.\nIn recent years, Swiss dialects have also taken some English words which already sound very Swiss, e.g., [ˈfuːd̥ə] ('to eat', from \"food\"), [ɡ̊ei̯mə] ('to play computer games', from \"game\") or [ˈz̥nœːb̥ə] or [ˈb̥oːrd̥ə] – ('to snowboard', from \"snowboard\"). These words are probably not direct loanwords from English but have been adopted through standard German intermediation. While most of those loanwords are of recent origin, some have been in use for decades, e.g. [ˈ(t)ʃutːə] ('to play football', from \"shoot\").\nThere are also a few English words which are modern adoptions from Swiss German. The dishes müesli, and rösti have become English words, as did loess (fine grain), flysch (sandstone formation), kepi, landammann, kilch, schiffli, and putsch in a political sense. The term bivouac is sometimes explained as originating from Swiss German, while printed etymological dictionaries (e.g. the German Kluge or Knaurs Etymological Dictionary) derive it from Low German instead.\n\n\n== Orthography ==\n\n\n=== History ===\nWritten forms that were mostly based on the local Alemannic varieties, thus similar to Middle High German, were only gradually replaced by the forms of New High German. This replacement took from the 15th to 18th centuries to complete. In the 16th century, the Alemannic forms of writing were considered the original, truly Swiss forms, whereas the New High German forms were perceived as foreign innovations. The innovations were brought about by the printing press and were also associated with Lutheranism. An example of the language shift is the Froschauer Bible: Its first impressions after 1524 were largely written in an Alemannic language, but since 1527, the New High German forms were gradually adopted. The Alemannic forms were longest preserved in the chancelleries, with the chancellery of Bern being the last to adopt New High German in the second half of the 18th century.Today all formal writing, newspapers, books and much informal writing is done in Swiss Standard German, which is usually called Schriftdeutsch (written German). Certain dialectal words are accepted regionalisms in Swiss Standard German and are also sanctioned by the Duden, e.g., Zvieri (afternoon snack). Swiss Standard German is virtually identical to Standard German as used in Germany, with most differences in pronunciation, vocabulary, and orthography. For example, Swiss Standard German always uses a double s (ss) instead of the eszett (ß).\nThere are no official rules of Swiss German orthography. The orthographies used in the Swiss-German literature can be roughly divided into two systems: Those that try to stay as close to standard German spelling as possible and those that try to represent the sounds as well as possible. The so-called Schwyzertütschi Dialäktschrift was developed by Eugen Dieth, but knowledge of these guidelines is limited mostly to language experts. Furthermore, the spellings originally proposed by Dieth included some special signs not found on a normal keyboard, such as ⟨ʃ⟩ instead of ⟨sch⟩ for [ʃ] or ⟨ǜ⟩ instead of ⟨ü⟩ for [ʏ]. In 1986, a revised version of the Dieth-Schreibung was published, designed to be typed with a regular typewriter.\n\n\n=== Conventions ===\nA few letters are used differently from the Standard German rules:\n\n⟨k⟩ (and ⟨ck⟩) are used for the affricate /kx/.\n⟨gg⟩ is used for the unaspirated fortis /k/.\n⟨y⟩ (and sometimes ⟨yy⟩) traditionally stands for the /iː/ (in many dialects shortened to /i/, but still with closed quality) that corresponds to Standard German /aɪ̯/, e.g. in Rys 'rice' (standard German Reis /raɪ̯s/) vs. Ris 'giant' (standard German /riːzə/). This usage goes back to an old ij-ligature. Many writers, however, don't use ⟨y⟩, but ⟨i⟩/⟨ii⟩, especially in the dialects that have lost distinction between these sounds, compare Zürich German Riis /riːz̥/ 'rice' or 'giant' to Bernese German Rys /riːz̥/ 'rice' vs. Ris /rɪːz̥/ ('giant'). Some use even ⟨ie⟩, influenced by Standard German spelling, which leads to confusion with ⟨ie⟩ for /iə̯/.\n⟨w⟩ represents [ʋ], slightly different from Standard German as [v].\n⟨ä⟩ usually represents [æ], and can also represent [ə] or [ɛ].\n⟨ph⟩ represents [pʰ], ⟨th⟩ represents [tʰ], and ⟨gh⟩ represents [kʰ].\nSince [ei] is written as ⟨ei⟩, [ai] is written as ⟨äi⟩, though in eastern Switzerland ⟨ei⟩ is often used for both of these phonemes.\n\n\n== Literature ==\nSince the 19th century, a considerable body of Swiss German literature has accumulated. The earliest works were in Lucerne German (Jost Bernhard Häfliger, Josef Felix Ineichen), in Bernese German (Gottlieb Jakob Kuhn), in Glarus German (Cosimus Freuler) and in Zürich German (Johann Martin Usteri, Jakob Stutz); the works of Jeremias Gotthelf which were published at the same time are in Swiss Standard German, but use many expressions of Bernese German. Some of the more important dialect writing authors and their works are:\n\nAnna Maria Bacher (born 1947), Z Kschpel fam Tzit; Litteri un Schattä; Z Tzit fam Schnee (South Walser German of Formazza/Pomatt)\nAlbert Bächtold (1891–1981), De goldig Schmid; Wält uhni Liecht; De Studänt Räbme; Pjotr Ivanowitsch (Schaffhausen dialect of Klettgau)\nErnst Burren (born 1944), Dr Schtammgascht; Näschtwermi (Solothurn dialect)\nAugust Corrodi (1826–1885), De Herr Professer; De Herr Vikari; De Herr Dokter (Zurich dialect)\nBarbara Egli (1918–2005), Wildi Chriesi (Zurich Oberland dialect)\nFritz Enderlin (1883–1971), De Sonderbunds-Chrieg, translated from C. F. Ramuz's French poem La Grande Guerre du Sondrebond (Upper Thurgovian dialect)\nMartin Frank (born 1950), Ter Fögi ische Souhung; La Mort de Chevrolet (Bernese dialect with Zurich interferences)\nSimon Gfeller (1868–1943), Ämmegrund; Drätti, Müetti u der Chlyn; Seminarzyt (Bernese dialect of Emmental)\nGeorg Fient (1845–1915), Lustig G'schichtenä (Graubünden Walser dialect of Prättigau)\nPaul Haller (1882–1920), Maria und Robert (Western Aargau dialect)\nFrida Hilty-Gröbli (1893–1957), Am aalte Maartplatz z Sant Galle; De hölzig Matroos (St Gall dialect)\nJosef Hug (1903–1985), S Gmaiguet; Dunggli Wolgga ob Salaz (Graubünden Rhine Valley dialect)\nGuy Krneta (born 1964), Furnier (collection of short stories), Zmittst im Gjätt uss (prose), Ursle (Bernese dialect)\nMichael Kuoni (1838–1891), Bilder aus dem Volksleben des Vorder-Prättigau's (Graubünden Walser dialect of Prättigau)\nMaria Lauber (1891–1973), Chüngold; Bletter im Luft; Der jung Schuelmiischter (Bernese Oberland dialect)\nPedro Lenz (born 1965), Plötzlech hets di am Füdle; Der Goalie bin ig (Bernese Dialect)\nMeinrad Lienert (1865–1933), Flüehblüemli; 's Mirli; Der Waldvogel (Schwyz dialect of Einsiedeln)\nCarl Albert Loosli (1877–1959), Mys Dörfli; Mys Ämmitaw; Wi's öppe geit! (Bernese dialect of Emmental)\nKurt Marti (born 1921), Vierzg Gedicht ir Bärner Umgangssprache; Rosa Loui (Bernese dialect)\nWerner Marti (1920–2013), Niklaus und Anna; Dä nid weis, was Liebi heisst (Bernese dialect)\nMani Matter (1936–1972), songwriter (Bernese dialect)\nTraugott Meyer (1895–1959), 's Tunnälldorf; Der Gänneral Sutter (Basel-Landschaft dialect)\nGall Morel (1803–1872), Dr Franzos im Ybrig (Schwyz German of Iberg)\nViktor Schobinger (born 1934), Der Ääschme trifft simpatisch lüüt and a lot of other Züri Krimi (Zurich dialect)\nCaspar Streiff (1853–1917), Der Heiri Jenni im Sunnebärg (Glarus dialect)\nJakob Stutz (1801–1877), Gemälde aus dem Volksleben; Ernste und heitere Bilder aus dem Leben unseres Volkes (Zurich Oberland dialect)\nRudolf von Tavel (1866–1934), Ring i der Chetti; Gueti Gschpane; Meischter und Ritter; Der Stärn vo Buebebärg; D'Frou Kätheli und ihri Buebe; Der Frondeur; Ds velorene Lied; D'Haselmuus; Unspunne; Jä gäl, so geit's!; Der Houpme Lombach; Götti und Gotteli; Der Donnergueg; Veteranezyt; Heinz Tillman; Die heilige Flamme; Am Kaminfüür; Bernbiet; Schweizer daheim und draußen; Simeon und Eisi; Geschichten aus dem Bernerland (Bernese dialect)\nAlfred Tobler (1845–1923), Näbes oß mine Buebejohre (Appenzell dialect)\nJohann Martin Usteri (1763–1827), Dichtungen in Versen und Prosa (Zurich German)\nHans Valär (1871–1947), Dr Türligiiger (Graubünden Walser dialect of Davos)\nBernhard Wyss (1833–1889), Schwizerdütsch. Bilder aus dem Stilleben unseres Volkes (Solothurn dialect)Parts of the Bible were translated in different Swiss German dialects, e.g.:\nDs Nöie Teschtamänt bärndütsch (Bernese New Testament, translated by Hans and Ruth Bietenhard, 1989)\nDs Alte Teschtamänt bärndütsch (parts of the Old Testament in Bernese dialect, translated by Hans and Ruth Bietenhard, 1990)\nD Psalme bärndütsch (Psalms in Bernese dialect, translated by Hans, Ruth and Benedikt Bietenhard, 1994)\nS Nöi Teschtamänt Züritüütsch (Zurich German New Testament, translated by Emil Weber, 1997)\nD Psalme Züritüütsch (Psalms in Zurich German, translated by Josua Boesch, 1990)\nDer guet Bricht us der Bible uf Baselbieterdütsch (parts of the Old and the New Testament in Basel dialect, 1981)\nS Markus Evangelium Luzärntüütsch (Gospel of Mark in Lucerne dialect, translated by Walter Haas, 1988)\nMarkusevangeeli Obwaldnerdytsch (Gospel of Mark in the Obwalden dialect, translated by Karl Imfeld, 1979)\n\n\n== See also ==\nArgentinien-schwyzertütsch dialect\nSwiss French\nSwiss Italian\nSwiss Standard German\nLinguistic geography of Switzerland\n\n\n== Notes ==\n\n\n== References ==\n\n\n== Bibliography ==\nAlbert Bachmann (ed.), Beiträge zur schweizerdeutschen Grammatik (BSG), 20 vols., Frauenfeld: Huber, 1919–1941.\nFleischer, Jürg; Schmid, Stephan (2006), \"Zurich German\" (PDF), Journal of the International Phonetic Association, 36 (2): 243–253, doi:10.1017/S0025100306002441, S2CID 232347372\nRudolf Hotzenköcherle (ed.), Beiträge zur schweizerdeutschen Mundartforschung (BSM), 24 vols., Frauenfeld: Huber, 1949–1982.\nRudolf Hotzenköcherle, Robert Schläpfer, Rudolf Trüb (ed.), Sprachatlas der deutschen Schweiz. Bern/Tübingen: Francke, 1962–1997, vol. 1–8. – Helen Christen, Elvira Glaser, Matthias Friedli (ed.), Kleiner Sprachatlas der deutschen Schweiz. Frauenfeld: Huber, 2010 (and later editions), ISBN 978-3-7193-1524-5. [2]\nVerein für das Schweizerdeutsche Wörterbuch (ed.), Schweizerisches Idiotikon: Wörterbuch der schweizerdeutschen Sprache. Frauenfeld: Huber; Basel: Schwabe, 17 vols. (16 complete), 1881–, ISBN 978-3-7193-0413-3. [3]\n\n\n== External links ==\nChochichästli-Orakel – choose the Swiss German words you would normally use and see how well this matches the dialect of your area. (in German)\nDialekt.ch a site with sound samples from different dialects. (in German)\nSchweizerisches Idiotikon The homepage of the Swiss national dictionary.\nOne poem in 29 Swiss dialects  (in German and English)\nZürich's Swiss German morphology and lexicon\n",
     "output_type": "stream"
    }
   ],
   "execution_count": null
  },
  {
   "cell_type": "markdown",
   "source": "### Access the 'Title' of the Wiki Article using the '.title' method",
   "metadata": {
    "cell_id": "a3ff62a5-8b70-4295-be6c-9f1aa06d2460",
    "tags": [],
    "is_collapsed": false,
    "deepnote_app_coordinates": {
     "x": 0,
     "y": 135,
     "w": 12,
     "h": 5
    },
    "deepnote_cell_type": "text-cell-h3"
   }
  },
  {
   "cell_type": "code",
   "metadata": {
    "cell_id": "0eb214ac-2476-48a8-80eb-f755e9e7a28a",
    "tags": [],
    "deepnote_to_be_reexecuted": false,
    "source_hash": "af74af69",
    "execution_start": 1646429637359,
    "execution_millis": 38,
    "deepnote_app_coordinates": {
     "x": 0,
     "y": 57,
     "w": 12,
     "h": 5
    },
    "deepnote_cell_type": "code"
   },
   "source": "swiss_german.title",
   "outputs": [
    {
     "output_type": "execute_result",
     "execution_count": 7,
     "data": {
      "text/plain": "'Swiss German'"
     },
     "metadata": {}
    }
   ],
   "execution_count": null
  },
  {
   "cell_type": "markdown",
   "source": "### Access the 'links' embedded within\nthe Wiki Article using the '.links' method",
   "metadata": {
    "cell_id": "809f3c9c-a4d8-45ff-b4b0-67021c53af13",
    "tags": [],
    "is_collapsed": false,
    "deepnote_app_coordinates": {
     "x": 0,
     "y": 141,
     "w": 12,
     "h": 5
    },
    "deepnote_cell_type": "text-cell-h3"
   }
  },
  {
   "cell_type": "code",
   "metadata": {
    "cell_id": "71f2c07c-ec80-4dd1-b5a3-2d3c2713050d",
    "tags": [],
    "deepnote_to_be_reexecuted": false,
    "source_hash": "dc29c3a4",
    "execution_start": 1646429637396,
    "execution_millis": 200,
    "deepnote_app_coordinates": {
     "x": 0,
     "y": 63,
     "w": 12,
     "h": 5
    },
    "deepnote_cell_type": "code"
   },
   "source": "swiss_german.links",
   "outputs": [
    {
     "output_type": "execute_result",
     "execution_count": 8,
     "data": {
      "text/plain": "['Aargau',\n 'Achterhooks',\n 'Adams County, Indiana',\n 'Affricate',\n 'Affricate consonant',\n 'Afrikaans',\n 'Albert Bächtold',\n 'Alemannic German',\n 'Alemannic German language',\n 'Alphanumeric keyboard',\n 'Alps',\n 'Alsatian dialect',\n 'Alsatian language',\n 'Alveolar consonant',\n 'Alveolar trill',\n 'Alzenau dialect',\n 'Amana German',\n 'Amelands',\n 'Amrum North Frisian',\n 'Ancient Belgian language',\n 'Anglic languages',\n 'Anglo-Frisian languages',\n 'Aosta Valley',\n 'Apocope',\n 'Appenzell',\n 'Approximant',\n 'Argentinien-schwyzertütsch dialect',\n 'Arête',\n 'Association football',\n 'August Corrodi',\n 'Austrian German',\n 'Back vowel',\n 'Barossa German',\n 'Basel',\n 'Basel-Landschaft',\n 'Basel-Stadt',\n 'Basel German',\n 'Bavarian language',\n 'Belgranodeutsch',\n 'Benrath line',\n 'Bergensk',\n 'Berlin German',\n 'Bern',\n 'Bernese German',\n 'Bernese Oberland',\n 'Bildts',\n 'Bokmål',\n 'Bornholm dialect',\n 'Brabantian dialect',\n 'Brandenburgisch dialect',\n 'Burgundians',\n 'Bökingharde North Frisian',\n 'Canton of Bern',\n 'Canton of Fribourg',\n 'Canton of Glarus',\n 'Canton of Lucerne',\n 'Canton of Schaffhausen',\n 'Canton of Schwyz',\n 'Canton of Solothurn',\n 'Canton of St. Gallen',\n 'Canton of Uri',\n 'Canton of Valais',\n 'Canton of Zug',\n 'Canton of Zürich',\n 'Cantonal',\n 'Carl Albert Loosli',\n 'Central Bavarian',\n 'Central Dutch dialects',\n 'Central Franconian languages',\n 'Central German',\n 'Central Markish',\n 'Central Pomeranian',\n 'Central vowel',\n 'Chur',\n 'Cimbrian language',\n 'Close-mid back rounded vowel',\n 'Close-mid front rounded vowel',\n 'Close-mid front unrounded vowel',\n 'Close-mid vowel',\n 'Close back rounded vowel',\n 'Close front rounded vowel',\n 'Close front unrounded vowel',\n 'Close vowel',\n 'Colognian',\n 'Colonia Tovar dialect',\n 'Context-free',\n 'Creole language',\n 'Crimean Gothic',\n 'Cross-serial dependency',\n 'Dalecarlian language',\n 'Danish language',\n 'Dependent clause',\n 'Diglossia',\n 'Diphthongs',\n 'Doi (identifier)',\n 'Droemer Knaur',\n 'Drèents dialects',\n 'Duden',\n 'Dutch Low Saxon',\n 'Dutch language',\n 'Early Modern English',\n 'Early New High German',\n 'Early Scots',\n 'East Central German',\n 'East Flemish',\n 'East Franconian German',\n 'East Frisian Low Saxon',\n 'East Frisian language',\n 'East Germanic languages',\n 'East Low German',\n 'East Pomeranian',\n 'East Westphalian',\n 'Eastphalian language',\n 'Eiderstedt Frisian',\n 'Elbe Germanic',\n 'Elfdalian',\n 'English language',\n 'Erzgebirgisch',\n 'Estonian Swedish',\n 'Eszett',\n 'Eugen Dieth',\n 'Faroese language',\n 'Feudalism',\n 'Final-obstruent devoicing',\n 'Fingallian',\n 'Finite verb',\n 'Finland Swedish',\n 'Flysch',\n 'Forth and Bargy dialect',\n 'Fortis (phonetics)',\n 'Fortis and lenis',\n 'Franco-Provençal',\n 'Frankish language',\n 'French Flemish',\n 'French Sign Language',\n 'French loanwords in Standard German',\n 'French phonology',\n 'Fricative consonant',\n 'Friedrich Kluge',\n 'Friedrich Maurer (linguist)',\n 'Frisian languages',\n 'Front vowel',\n 'Froschauer Bible',\n 'Föhr North Frisian',\n 'Gall Morel',\n 'Gemination',\n 'Genitive case',\n 'German-speaking Switzerland',\n 'German Standard German',\n 'German verbs',\n 'Germanic a-mutation',\n 'Germanic languages',\n 'Germanic parent language',\n 'Germanic philology',\n 'Germanic spirant law',\n 'Germanic strong verb',\n 'Germanic substrate hypothesis',\n 'Germanic umlaut',\n 'Germanic verb',\n 'Germanic weak verb',\n 'Glottal consonant',\n 'Glottolog',\n 'Goesharde Frisian',\n 'Gothic language',\n 'Gotho-Nordic',\n 'Grammatischer Wechsel',\n 'Graubünden',\n 'Great Vowel Shift',\n 'Greenlandic Norse',\n \"Grimm's law\",\n 'Gronings dialect',\n 'Gutnish',\n 'Gøtudanskt accent',\n 'Halligen Frisian',\n 'Hallingmål-Valdris',\n 'Haslital',\n 'Heligoland Frisian',\n 'Hessian dialects',\n 'Hiatus (linguistics)',\n 'High Alemannic',\n 'High Alemannic German',\n 'High German consonant shift',\n 'High German languages',\n 'High Prussian dialect',\n 'Highest Alemannic German',\n 'Hindeloopen Frisian',\n 'Historical Dictionary of Switzerland',\n 'History of Danish',\n 'History of Icelandic',\n 'History of the Jews in Scotland',\n 'Hollandic dialect',\n 'Holsteinisch',\n \"Holtzmann's law\",\n 'Hunsrik',\n 'Hunsrückisch dialect',\n 'Hutterite German',\n 'IETF language tag',\n 'IJ (letter)',\n 'ISBN (identifier)',\n 'ISO 639-2',\n 'ISO 639-3',\n 'ISSN (identifier)',\n 'Icelandic language',\n 'Imperative mood',\n 'Independent clause',\n 'Indicative mood',\n 'Indo-European ablaut',\n 'Indo-European languages',\n 'Infinitive',\n 'Ingvaeonic nasal spirant law',\n 'Insular Danish',\n 'International Phonetic Alphabet',\n 'Issime',\n 'Italian Sign Language',\n 'Jakob Stutz',\n 'Jeremias Gotthelf',\n 'Jersey Dutch',\n 'Johann Martin Usteri',\n 'Jutlandic dialect',\n 'Jämtland dialects',\n 'Kalix dialect',\n 'Karrharde Frisian',\n 'Kebabnorsk',\n 'Kepi',\n 'Kilch (disambiguation)',\n 'Kiruna dialect',\n 'Klezmer-loshn',\n \"Kluge's law\",\n 'Kurt Marti',\n 'Labial consonant',\n 'Labiodental approximant',\n 'Labiodental fricative',\n 'Lachoudisch',\n 'Lake Constance',\n 'Landammann',\n 'Language death',\n 'Language family',\n 'Languages of Switzerland',\n 'Length (phonetics)',\n 'Lexical stress',\n 'Liechtenstein',\n 'Limburgish',\n 'Linguasphere Observatory',\n 'Linguistic geography of Switzerland',\n 'List of dialects of English',\n 'Loess',\n 'Lombard language',\n 'Lombardic language',\n 'Lorraine Franconian',\n 'Lotegorisch',\n 'Low Alemannic German',\n 'Low Franconian',\n 'Low German',\n 'Low Prussian dialect',\n 'Luleå dialects',\n 'Lutheranism',\n 'Luxembourgish',\n 'Lötschental',\n 'Mani Matter',\n 'Mecklenburgisch-Vorpommersch dialect',\n 'Meuse-Rhenish',\n 'Mid central vowel',\n 'Middle Dutch',\n 'Middle English',\n 'Middle Frisian',\n 'Middle High German',\n 'Middle Low German',\n 'Middle Norwegian',\n 'Middle Scots',\n 'Midslands',\n 'Mohawk Dutch',\n 'Monte Rosa',\n 'Moselle Franconian language',\n 'Mòcheno language',\n 'Müesli',\n 'Namibian Black German',\n 'Namibian German',\n 'Nasal stop',\n 'Near-close near-back rounded vowel',\n 'Near-close near-front rounded vowel',\n 'Near-close near-front unrounded vowel',\n 'Near-close vowel',\n 'Near-open front unrounded vowel',\n 'Neutralization (linguistics)',\n 'New High German',\n 'Norn language',\n 'Norrland dialects',\n 'North Frisian language',\n 'North Germanic languages',\n 'North Markish',\n 'North Sea Germanic',\n 'North Upper Saxon',\n 'Northern Bavarian',\n 'Northern Italy',\n 'Northern Low Saxon',\n 'Northwest Germanic',\n 'Norwegian language',\n 'Nynorsk',\n 'Obstruent',\n 'Obwalden',\n 'Old Dutch',\n 'Old English',\n 'Old Frisian',\n 'Old Gutnish',\n 'Old High German',\n 'Old Norse',\n 'Old Norwegian',\n 'Old Saxon',\n 'Old Swedish',\n 'Online Etymology Dictionary',\n 'Open-mid back rounded vowel',\n 'Open-mid front rounded vowel',\n 'Open-mid front unrounded vowel',\n 'Open-mid vowel',\n 'Open back rounded vowel',\n 'Open back unrounded vowel',\n 'Open front unrounded vowel',\n 'Open vowel',\n 'Palatine German language',\n 'Paraná-Wolga-Deutsch',\n 'Participle',\n 'Past tense',\n 'Pennsylvania German language',\n 'Perkerdansk',\n 'Personal pronoun',\n 'Phoneme',\n 'Piedmont',\n 'Plautdietsch language',\n 'Pluperfect',\n 'Possession (linguistics)',\n 'Postalveolar consonant',\n 'Present tense',\n 'Preterite',\n 'Printing press',\n 'Pronominal adverb',\n 'Proto-Germanic grammar',\n 'Proto-Germanic language',\n 'Proto-Norse language',\n 'Putsch',\n 'Reduplication',\n 'Relative clause',\n 'Relative pronoun',\n 'Relativizer',\n 'Rhenish Franconian languages',\n 'Rhotic consonant',\n 'Rinkeby Swedish',\n 'Ripuarian language',\n 'Romandy',\n 'Romansh language',\n 'Rotwelsch',\n 'Roundedness',\n 'Rudolf von Tavel',\n 'Rösti',\n 'S2CID (identifier)',\n 'Sallaans dialect',\n 'Samnaun',\n 'Saterland Frisian language',\n 'Scanian dialect',\n 'Schiermonnikoog Frisian',\n 'Schleswigsch',\n 'Schweizerisches Idiotikon',\n 'Scots language',\n 'Serfdom',\n 'Shibboleth',\n \"Sievers's law\",\n 'Silesian German',\n 'Simon Gfeller',\n 'Sinte Romani',\n 'Småländska',\n 'Sognamål dialect',\n 'South Franconian German',\n 'South Germanic',\n 'South Guelderish',\n 'South Jutlandic',\n 'South Markish',\n 'South Swedish dialects',\n 'South Tyrol',\n 'South Tyrolean dialect',\n 'South Westphalian',\n 'Southeast Limburgish dialect',\n 'Southern Bavarian',\n 'Southern Schleswig Danish',\n 'Specials (Unicode block)',\n 'Spoken language',\n 'Sprachatlas der deutschen Schweiz',\n 'Stadsfries dialects',\n 'Standard German',\n 'Standard language',\n 'Stellingwarfs dialect',\n 'Stockholm dialects',\n 'Stop consonant',\n 'Strand Frisian',\n 'Subjunctive mood',\n 'Surinamese Dutch',\n 'Swabian German',\n 'Swedish dialects in Ostrobothnia',\n 'Swedish language',\n 'Swiss-German Sign Language',\n 'Swiss Alps',\n 'Swiss Amish',\n 'Swiss French',\n 'Swiss Italian',\n 'Swiss Plateau',\n 'Swiss Standard German',\n 'Swiss plateau',\n 'Swiss rock',\n 'Switzerland',\n 'Sylt North Frisian',\n 'Terschelling Frisian',\n 'Thurgau',\n 'Thuringian dialect',\n 'Ticinese dialect',\n 'Ticino',\n 'Transylvanian Saxon dialect',\n 'Trøndersk',\n 'Tweants dialect',\n 'Umbrella term',\n 'Unaspirated',\n 'Unicode',\n 'Unserdeutsch',\n 'Unterwalden',\n 'Upper German',\n 'Upper Saxon German',\n 'Uppländska dialect',\n 'Urkers dialect',\n 'Uvular trill',\n 'Vandalic language',\n 'Variety (linguistics)',\n 'Velar consonant',\n 'Veluws dialect',\n \"Verner's law\",\n 'Vestlandsk',\n 'Viennese German',\n 'Vikværsk',\n 'Vogtlandian',\n 'Voice (phonetics)',\n 'Voiced alveolar lateral approximant',\n 'Voiced alveolar nasal',\n 'Voiced bilabial nasal',\n 'Voiced labiodental approximant',\n 'Voiced palatal approximant',\n 'Voiced velar nasal',\n 'Voiceless alveolar affricate',\n 'Voiceless alveolar fricative',\n 'Voiceless alveolar plosive',\n 'Voiceless bilabial plosive',\n 'Voiceless glottal fricative',\n 'Voiceless labiodental affricate',\n 'Voiceless labiodental fricative',\n 'Voiceless postalveolar affricate',\n 'Voiceless postalveolar fricative',\n 'Voiceless velar affricate',\n 'Voiceless velar fricative',\n 'Voiceless velar plosive',\n 'Volga Germans',\n 'Vorarlberg',\n 'Vowel length',\n 'Västgötska',\n 'Walliser German',\n 'Walser',\n 'Walser German',\n 'Wangerooge Frisian',\n 'Wayback Machine',\n 'Weser-Rhine Germanic',\n 'West Central German',\n 'West Flemish',\n 'West Frisian language',\n 'West Frisian languages',\n 'West Germanic gemination',\n 'West Germanic languages',\n 'West Low German',\n 'Westereendersk',\n 'Westphalian language',\n 'Westrobothnian',\n 'Wiedingharde Frisian',\n 'Wikipedia',\n 'Written language',\n 'Wursten Frisian',\n 'Wymysorys language',\n 'Yenish language',\n 'Yiddish',\n 'Yiddish dialects',\n 'Zeelandic',\n 'Zürich German',\n 'Åland dialects']"
     },
     "metadata": {}
    }
   ],
   "execution_count": null
  },
  {
   "cell_type": "markdown",
   "source": "### Access the 'References' section of Wiki Article using the '.references' method",
   "metadata": {
    "cell_id": "756012ef-85ca-4b1d-b9cf-721e4249af94",
    "tags": [],
    "is_collapsed": false,
    "deepnote_app_coordinates": {
     "x": 0,
     "y": 147,
     "w": 12,
     "h": 5
    },
    "deepnote_cell_type": "text-cell-h3"
   }
  },
  {
   "cell_type": "code",
   "metadata": {
    "cell_id": "7845fd14-ba08-4ab3-a843-03fef841e694",
    "tags": [],
    "deepnote_to_be_reexecuted": false,
    "source_hash": "242937e6",
    "execution_start": 1646429637599,
    "execution_millis": 227,
    "deepnote_app_coordinates": {
     "x": 0,
     "y": 69,
     "w": 12,
     "h": 5
    },
    "deepnote_cell_type": "code"
   },
   "source": "swiss_german.references",
   "outputs": [
    {
     "output_type": "execute_result",
     "execution_count": 9,
     "data": {
      "text/plain": "['http://www.bfs.admin.ch/bfs/portal/de/index/themen/01/05/blank/key/sprachen.html',\n 'http://www.dialekt.ch/',\n 'http://www.forums9.ch/sprachen/Rosetta.htm',\n 'http://dialects.from.ch/',\n 'http://hls-dhs-dss.ch/textes/d/D11194-3-3.php',\n 'http://www.idiotikon.ch/',\n 'http://www.etymonline.com/index.php?search=bivouac',\n 'http://scholar.google.com/scholar?q=%22Swiss+German%22',\n 'http://www.google.com/search?&q=%22Swiss+German%22&tbs=bkt:s&tbm=bks',\n 'http://www.google.com/search?as_eq=wikipedia&q=%22Swiss+German%22',\n 'http://www.google.com/search?tbm=nws&q=%22Swiss+German%22+-wikipedia&tbs=ar:1',\n 'http://www.google.com/search?tbs=bks:1&q=%22Swiss+German%22+-wikipedia',\n 'http://www.linguistik-online.com/45_11/editorial.pdf',\n 'http://www.nthuleen.com/papers/130paper2.html',\n 'http://www.3sat.de/page/?source=/sfdrs/176772/index.html',\n 'http://www.eecs.harvard.edu/~shieber/Biblio/Papers/shieber85.pdf',\n 'http://www.uta.edu/faculty/cmfitz/swnal/projects/CoLang/courses/Transcription/Fleischer_and_Schmidt.pdf',\n 'http://www.iwaynet.net/~watts/deutsch/dstimm.html',\n 'http://doi.org/10.1007%2F978-3-322-97032-9_9',\n 'http://doi.org/10.1007%2FBF00630917',\n 'http://doi.org/10.1017%2FS0025100306002441',\n 'http://doi.org/10.13092%2Flo.45.385',\n 'http://doi.org/10.13092%2Flo.45.387',\n 'http://doi.org/10.24442%2Fboristheses.2128',\n 'http://doi.org/10.5167%2Fuzh-52463',\n 'http://glottolog.org/resource/languoid/id/swis1247',\n 'http://glottolog.org/resource/languoid/id/wals1238',\n 'http://www.worldcat.org/issn/1615-3014',\n 'https://www.dict.cc/?s=High+German+consonant+shift',\n 'https://www.dict.cc/?s=hochdeutsche+Lautverschiebung',\n 'https://www.bfs.admin.ch/bfs/de/home/statistiken/kataloge-datenbanken/publikationen.assetdetail.3543997.html',\n 'https://hls-dhs-dss.ch/de/articles/011206/2016-07-11/',\n 'https://hls-dhs-dss.ch/fr/articles/024595',\n 'https://digital.idiotikon.ch/idtkn/id2.htm#!page/20811/mode/1up',\n 'https://www.idiotikon.ch',\n 'https://sprachatlas.ch',\n 'https://bop.unibe.ch/linguistik-online/article/view/385',\n 'https://bop.unibe.ch/linguistik-online/article/view/387',\n 'https://boristheses.unibe.ch/2128/',\n 'https://benjamins.com/catalog/la.191.03bra',\n 'https://books.google.com/books?id=R0xWDwAAQBAJ&pg=PR309',\n 'https://books.google.com/books?id=s3Lvycoqtt0C&pg=PT161',\n 'https://bibel-gesangbuch.de/bibel/mundartuebersetzungen/',\n 'https://kops.uni-konstanz.de/handle/123456789/17335',\n 'https://kb.osu.edu/handle/1811/81985',\n 'https://www.loc.gov/standards/iso639-2/php/langcodes_name.php?code_ID=177',\n 'https://d-nb.info/gnd/4116442-8',\n 'https://web.archive.org/web/20060808225543/http://www.iwaynet.net/~watts/deutsch/dstimm.html',\n 'https://web.archive.org/web/20160114180444/http://www.bfs.admin.ch/bfs/portal/de/index/themen/01/05/blank/key/sprachen.html',\n 'https://doi.org/10.1007/978-3-322-97032-9_9',\n 'https://glottolog.org/resource/languoid/id/alem1243',\n 'https://www.iana.org/assignments/lang-subtags-templates/gsw.txt',\n 'https://www.jstor.org/action/doBasicSearch?Query=%22Swiss+German%22&acc=on&wc=on',\n 'https://api.semanticscholar.org/CorpusID:222277837',\n 'https://api.semanticscholar.org/CorpusID:232347372',\n 'https://www.wikidata.org/wiki/Q387066#identifiers']"
     },
     "metadata": {}
    }
   ],
   "execution_count": null
  },
  {
   "cell_type": "markdown",
   "source": "### Access the links to the 'Images' embedded in the Wiki Article using the '.images' method",
   "metadata": {
    "cell_id": "84d4d79b-bb0b-4025-8e1c-1bba47ed8984",
    "tags": [],
    "is_collapsed": false,
    "deepnote_app_coordinates": {
     "x": 0,
     "y": 153,
     "w": 12,
     "h": 5
    },
    "deepnote_cell_type": "text-cell-h3"
   }
  },
  {
   "cell_type": "code",
   "metadata": {
    "cell_id": "bd5065dc-f1af-4054-8f05-afed9b17c76b",
    "tags": [],
    "deepnote_to_be_reexecuted": false,
    "source_hash": "41f8d7ad",
    "execution_start": 1646429637826,
    "execution_millis": 243,
    "deepnote_app_coordinates": {
     "x": 0,
     "y": 75,
     "w": 12,
     "h": 5
    },
    "deepnote_cell_type": "code"
   },
   "source": "swiss_german.images",
   "outputs": [
    {
     "output_type": "execute_result",
     "execution_count": 10,
     "data": {
      "text/plain": "['https://upload.wikimedia.org/wikipedia/commons/f/f3/Flag_of_Switzerland.svg',\n 'https://upload.wikimedia.org/wikipedia/commons/d/de/Globe_of_letters.svg',\n 'https://upload.wikimedia.org/wikipedia/commons/9/96/Swiss_languages_1.png',\n 'https://upload.wikimedia.org/wikipedia/commons/1/13/WIKITONGUES-_Fabia_speaking_Swiss_German.webm',\n 'https://upload.wikimedia.org/wikipedia/commons/8/8c/Z%C3%BCrich_German_monophthongs_chart.svg',\n 'https://upload.wikimedia.org/wikipedia/en/8/8a/OOjs_UI_icon_edit-ltr-progressive.svg',\n 'https://upload.wikimedia.org/wikipedia/en/9/99/Question_book-new.svg',\n 'https://upload.wikimedia.org/wikipedia/en/8/80/Wikipedia-logo-v2.svg']"
     },
     "metadata": {}
    }
   ],
   "execution_count": null
  },
  {
   "cell_type": "markdown",
   "source": "### Access the specific section of the wiki Article using the '.section' method by passing the section name as an argument",
   "metadata": {
    "cell_id": "2d9bdfd3-f17a-40b6-a536-d3dc4c3b8f77",
    "tags": [],
    "is_collapsed": false,
    "deepnote_app_coordinates": {
     "x": 0,
     "y": 159,
     "w": 12,
     "h": 5
    },
    "deepnote_cell_type": "text-cell-h3"
   }
  },
  {
   "cell_type": "code",
   "metadata": {
    "cell_id": "847d30a4-a13b-4a02-a6cc-b4446879db1e",
    "tags": [],
    "deepnote_to_be_reexecuted": false,
    "source_hash": "6e416795",
    "execution_start": 1646429638078,
    "execution_millis": 4,
    "deepnote_app_coordinates": {
     "x": 0,
     "y": 81,
     "w": 12,
     "h": 5
    },
    "deepnote_cell_type": "code"
   },
   "source": "swiss_german.section('History')",
   "outputs": [
    {
     "output_type": "execute_result",
     "execution_count": 11,
     "data": {
      "text/plain": "'Most Swiss German dialects, being High German dialects, have completed the High German consonant shift (synonyms: Second Germanic consonant shift, High German sound shift), that is, they have not only changed t to [t͡s] or [s] and p to [p͡f] or [f], but also k to [k͡x] or [x]. There are, however, exceptions, namely the idioms of Chur and Basel. Basel German is a Low Alemannic dialect (mostly spoken in Germany near the Swiss border), and Chur German is basically High Alemannic without initial [x] or [k͡x].\\nExamples:\\n\\nThe High German consonant shift happened between the 4th and 9th centuries south of the Benrath line, separating High German from Low German, where high refers to the geographically higher regions of the German-speaking area of those days (combining Upper German and Central German varieties - also referring to their geographical locations).\\nNorth of the Benrath line up to the North Sea, this consonant shift did not happen.\\nThe Walser migration, which took place between the 12th and 13th centuries, spread upper Wallis varieties towards the east and south, into Grisons and even further to western Austria and northern Italy. Informally, a distinction is made between the German-speaking people living in the canton of Valais, the Walliser, and the migrated ones, the Walsers (to be found mainly in Graubünden, Vorarlberg in Western Austria, Ticino in South Switzerland, south of the Monte Rosa mountain chain in Italy (e.g. in Issime in the Aosta valley), Tirol in North Italy, and Allgäu in Bavaria).\\nGenerally, the Walser communities were situated on higher alpine regions, so were able to stay independent of the reigning forces of those days, who did not or were not able to follow and monitor them all the time necessary at these hostile and hard to survive areas. So, the Walser were pioneers of the liberalization from serfdom and feudalism. And, Walser villages are easily distinguishable from Grisonian ones, since Walser houses are made of wood instead of stone.'"
     },
     "metadata": {}
    }
   ],
   "execution_count": null
  },
  {
   "cell_type": "markdown",
   "source": "### Change language to any supported language on wiki",
   "metadata": {
    "cell_id": "636eced0-9101-4df7-b5bc-be38af4a0dd1",
    "tags": [],
    "is_collapsed": false,
    "deepnote_app_coordinates": {
     "x": 0,
     "y": 171,
     "w": 12,
     "h": 5
    },
    "deepnote_cell_type": "text-cell-h3"
   }
  },
  {
   "cell_type": "code",
   "metadata": {
    "cell_id": "a5e6e111-9ee3-4aa5-94df-c5651ef3f579",
    "tags": [],
    "deepnote_to_be_reexecuted": false,
    "source_hash": "2906bc1f",
    "execution_start": 1646429638128,
    "execution_millis": 202,
    "deepnote_app_coordinates": {
     "x": 0,
     "y": 105,
     "w": 12,
     "h": 5
    },
    "deepnote_cell_type": "code"
   },
   "source": "wikipedia.languages()",
   "outputs": [
    {
     "output_type": "execute_result",
     "execution_count": 12,
     "data": {
      "text/plain": "{'aa': 'Qafár af',\n 'ab': 'аԥсшәа',\n 'abs': 'bahasa ambon',\n 'ace': 'Acèh',\n 'ady': 'адыгабзэ',\n 'ady-cyrl': 'адыгабзэ',\n 'aeb': 'تونسي/Tûnsî',\n 'aeb-arab': 'تونسي',\n 'aeb-latn': 'Tûnsî',\n 'af': 'Afrikaans',\n 'ak': 'Akan',\n 'aln': 'Gegë',\n 'als': 'Alemannisch',\n 'alt': 'алтай тил',\n 'am': 'አማርኛ',\n 'ami': 'Pangcah',\n 'an': 'aragonés',\n 'ang': 'Ænglisc',\n 'anp': 'अंगिका',\n 'ar': 'العربية',\n 'arc': 'ܐܪܡܝܐ',\n 'arn': 'mapudungun',\n 'arq': 'جازايرية',\n 'ary': 'الدارجة',\n 'arz': 'مصرى',\n 'as': 'অসমীয়া',\n 'ase': 'American sign language',\n 'ast': 'asturianu',\n 'atj': 'Atikamekw',\n 'av': 'авар',\n 'avk': 'Kotava',\n 'awa': 'अवधी',\n 'ay': 'Aymar aru',\n 'az': 'azərbaycanca',\n 'azb': 'تۆرکجه',\n 'ba': 'башҡортса',\n 'ban': 'Basa Bali',\n 'ban-bali': 'ᬩᬲᬩᬮᬶ',\n 'bar': 'Boarisch',\n 'bat-smg': 'žemaitėška',\n 'bbc': 'Batak Toba',\n 'bbc-latn': 'Batak Toba',\n 'bcc': 'جهلسری بلوچی',\n 'bci': 'wawle',\n 'bcl': 'Bikol Central',\n 'be': 'беларуская',\n 'be-tarask': 'беларуская (тарашкевіца)',\n 'be-x-old': 'беларуская (тарашкевіца)',\n 'bg': 'български',\n 'bgn': 'روچ کپتین بلوچی',\n 'bh': 'भोजपुरी',\n 'bho': 'भोजपुरी',\n 'bi': 'Bislama',\n 'bjn': 'Banjar',\n 'blk': 'ပအိုဝ်ႏဘာႏသာႏ',\n 'bm': 'bamanankan',\n 'bn': 'বাংলা',\n 'bo': 'བོད་ཡིག',\n 'bpy': 'বিষ্ণুপ্রিয়া মণিপুরী',\n 'bqi': 'بختیاری',\n 'br': 'brezhoneg',\n 'brh': 'Bráhuí',\n 'bs': 'bosanski',\n 'btm': 'Batak Mandailing',\n 'bto': 'Iriga Bicolano',\n 'bug': 'ᨅᨔ ᨕᨘᨁᨗ',\n 'bxr': 'буряад',\n 'ca': 'català',\n 'cbk-zam': 'Chavacano de Zamboanga',\n 'cdo': 'Mìng-dĕ̤ng-ngṳ̄',\n 'ce': 'нохчийн',\n 'ceb': 'Cebuano',\n 'ch': 'Chamoru',\n 'cho': 'Choctaw',\n 'chr': 'ᏣᎳᎩ',\n 'chy': 'Tsetsêhestâhese',\n 'ckb': 'کوردی',\n 'co': 'corsu',\n 'cps': 'Capiceño',\n 'cr': 'Nēhiyawēwin / ᓀᐦᐃᔭᐍᐏᐣ',\n 'crh': 'qırımtatarca',\n 'crh-cyrl': 'къырымтатарджа (Кирилл)',\n 'crh-latn': 'qırımtatarca (Latin)',\n 'cs': 'čeština',\n 'csb': 'kaszëbsczi',\n 'cu': 'словѣньскъ / ⰔⰎⰑⰂⰡⰐⰠⰔⰍⰟ',\n 'cv': 'чӑвашла',\n 'cy': 'Cymraeg',\n 'da': 'dansk',\n 'dag': 'dagbanli',\n 'de': 'Deutsch',\n 'de-at': 'Österreichisches Deutsch',\n 'de-ch': 'Schweizer Hochdeutsch',\n 'de-formal': 'Deutsch (Sie-Form)',\n 'din': 'Thuɔŋjäŋ',\n 'diq': 'Zazaki',\n 'dsb': 'dolnoserbski',\n 'dtp': 'Dusun Bundu-liwan',\n 'dty': 'डोटेली',\n 'dv': 'ދިވެހިބަސް',\n 'dz': 'ཇོང་ཁ',\n 'ee': 'eʋegbe',\n 'egl': 'Emiliàn',\n 'el': 'Ελληνικά',\n 'eml': 'emiliàn e rumagnòl',\n 'en': 'English',\n 'en-ca': 'Canadian English',\n 'en-gb': 'British English',\n 'eo': 'Esperanto',\n 'es': 'español',\n 'es-419': 'español de América Latina',\n 'es-formal': 'español (formal)',\n 'et': 'eesti',\n 'eu': 'euskara',\n 'ext': 'estremeñu',\n 'fa': 'فارسی',\n 'ff': 'Fulfulde',\n 'fi': 'suomi',\n 'fit': 'meänkieli',\n 'fiu-vro': 'võro',\n 'fj': 'Na Vosa Vakaviti',\n 'fo': 'føroyskt',\n 'fon': 'fɔ̀ngbè',\n 'fr': 'français',\n 'frc': 'français cadien',\n 'frp': 'arpetan',\n 'frr': 'Nordfriisk',\n 'fur': 'furlan',\n 'fy': 'Frysk',\n 'ga': 'Gaeilge',\n 'gaa': 'Ga',\n 'gag': 'Gagauz',\n 'gan': '贛語',\n 'gan-hans': '赣语（简体）',\n 'gan-hant': '贛語（繁體）',\n 'gcr': 'kriyòl gwiyannen',\n 'gd': 'Gàidhlig',\n 'gl': 'galego',\n 'gld': 'на̄ни',\n 'glk': 'گیلکی',\n 'gn': \"Avañe'ẽ\",\n 'gom': 'गोंयची कोंकणी / Gõychi Konknni',\n 'gom-deva': 'गोंयची कोंकणी',\n 'gom-latn': 'Gõychi Konknni',\n 'gor': 'Bahasa Hulontalo',\n 'got': '𐌲𐌿𐍄𐌹𐍃𐌺',\n 'grc': 'Ἀρχαία ἑλληνικὴ',\n 'gsw': 'Alemannisch',\n 'gu': 'ગુજરાતી',\n 'guc': 'wayuunaiki',\n 'gur': 'farefare',\n 'guw': 'gungbe',\n 'gv': 'Gaelg',\n 'ha': 'Hausa',\n 'hak': '客家語/Hak-kâ-ngî',\n 'haw': 'Hawaiʻi',\n 'he': 'עברית',\n 'hi': 'हिन्दी',\n 'hif': 'Fiji Hindi',\n 'hif-latn': 'Fiji Hindi',\n 'hil': 'Ilonggo',\n 'ho': 'Hiri Motu',\n 'hr': 'hrvatski',\n 'hrx': 'Hunsrik',\n 'hsb': 'hornjoserbsce',\n 'hsn': '湘语',\n 'ht': 'Kreyòl ayisyen',\n 'hu': 'magyar',\n 'hu-formal': 'magyar (formal)',\n 'hy': 'հայերեն',\n 'hyw': 'Արեւմտահայերէն',\n 'hz': 'Otsiherero',\n 'ia': 'interlingua',\n 'id': 'Bahasa Indonesia',\n 'ie': 'Interlingue',\n 'ig': 'Igbo',\n 'ii': 'ꆇꉙ',\n 'ik': 'Iñupiak',\n 'ike-cans': 'ᐃᓄᒃᑎᑐᑦ',\n 'ike-latn': 'inuktitut',\n 'ilo': 'Ilokano',\n 'inh': 'гӀалгӀай',\n 'io': 'Ido',\n 'is': 'íslenska',\n 'it': 'italiano',\n 'iu': 'ᐃᓄᒃᑎᑐᑦ/inuktitut',\n 'ja': '日本語',\n 'jam': 'Patois',\n 'jbo': 'la .lojban.',\n 'jut': 'jysk',\n 'jv': 'Jawa',\n 'ka': 'ქართული',\n 'kaa': 'Qaraqalpaqsha',\n 'kab': 'Taqbaylit',\n 'kbd': 'адыгэбзэ',\n 'kbd-cyrl': 'адыгэбзэ',\n 'kbp': 'Kabɩyɛ',\n 'kcg': 'Tyap',\n 'kea': 'kabuverdianu',\n 'kg': 'Kongo',\n 'khw': 'کھوار',\n 'ki': 'Gĩkũyũ',\n 'kiu': 'Kırmancki',\n 'kj': 'Kwanyama',\n 'kjp': 'ဖၠုံလိက်',\n 'kk': 'қазақша',\n 'kk-arab': 'قازاقشا (تٴوتە)',\n 'kk-cn': 'قازاقشا (جۇنگو)',\n 'kk-cyrl': 'қазақша (кирил)',\n 'kk-kz': 'қазақша (Қазақстан)',\n 'kk-latn': 'qazaqşa (latın)',\n 'kk-tr': 'qazaqşa (Türkïya)',\n 'kl': 'kalaallisut',\n 'km': 'ភាសាខ្មែរ',\n 'kn': 'ಕನ್ನಡ',\n 'ko': '한국어',\n 'ko-kp': '조선말',\n 'koi': 'перем коми',\n 'kr': 'Kanuri',\n 'krc': 'къарачай-малкъар',\n 'kri': 'Krio',\n 'krj': 'Kinaray-a',\n 'krl': 'karjal',\n 'ks': 'कॉशुर / کٲشُر',\n 'ks-arab': 'کٲشُر',\n 'ks-deva': 'कॉशुर',\n 'ksh': 'Ripoarisch',\n 'ksw': 'စှီၤ',\n 'ku': 'kurdî',\n 'ku-arab': 'كوردي (عەرەبی)',\n 'ku-latn': 'kurdî (latînî)',\n 'kum': 'къумукъ',\n 'kv': 'коми',\n 'kw': 'kernowek',\n 'ky': 'кыргызча',\n 'la': 'Latina',\n 'lad': 'Ladino',\n 'lb': 'Lëtzebuergesch',\n 'lbe': 'лакку',\n 'lez': 'лезги',\n 'lfn': 'Lingua Franca Nova',\n 'lg': 'Luganda',\n 'li': 'Limburgs',\n 'lij': 'Ligure',\n 'liv': 'Līvõ kēļ',\n 'lki': 'لەکی',\n 'lld': 'Ladin',\n 'lmo': 'lombard',\n 'ln': 'lingála',\n 'lo': 'ລາວ',\n 'loz': 'Silozi',\n 'lrc': 'لۊری شومالی',\n 'lt': 'lietuvių',\n 'ltg': 'latgaļu',\n 'lus': 'Mizo ţawng',\n 'luz': 'لئری دوٙمینی',\n 'lv': 'latviešu',\n 'lzh': '文言',\n 'lzz': 'Lazuri',\n 'mad': 'Madhurâ',\n 'mai': 'मैथिली',\n 'map-bms': 'Basa Banyumasan',\n 'mdf': 'мокшень',\n 'mg': 'Malagasy',\n 'mh': 'Ebon',\n 'mhr': 'олык марий',\n 'mi': 'Māori',\n 'min': 'Minangkabau',\n 'mk': 'македонски',\n 'ml': 'മലയാളം',\n 'mn': 'монгол',\n 'mni': 'ꯃꯤꯇꯩ ꯂꯣꯟ',\n 'mnw': 'ဘာသာ မန်',\n 'mo': 'молдовеняскэ',\n 'mr': 'मराठी',\n 'mrh': 'Mara',\n 'mrj': 'кырык мары',\n 'ms': 'Bahasa Melayu',\n 'ms-arab': 'بهاس ملايو',\n 'mt': 'Malti',\n 'mus': 'Mvskoke',\n 'mwl': 'Mirandés',\n 'my': 'မြန်မာဘာသာ',\n 'myv': 'эрзянь',\n 'mzn': 'مازِرونی',\n 'na': 'Dorerin Naoero',\n 'nah': 'Nāhuatl',\n 'nan': 'Bân-lâm-gú',\n 'nap': 'Napulitano',\n 'nb': 'norsk bokmål',\n 'nds': 'Plattdüütsch',\n 'nds-nl': 'Nedersaksies',\n 'ne': 'नेपाली',\n 'new': 'नेपाल भाषा',\n 'ng': 'Oshiwambo',\n 'nia': 'Li Niha',\n 'niu': 'Niuē',\n 'nl': 'Nederlands',\n 'nl-informal': 'Nederlands (informeel)',\n 'nmz': 'nawdm',\n 'nn': 'norsk nynorsk',\n 'no': 'norsk',\n 'nod': 'ᨣᩤᩴᨾᩮᩬᩥᨦ',\n 'nov': 'Novial',\n 'nqo': 'ߒߞߏ',\n 'nrm': 'Nouormand',\n 'nso': 'Sesotho sa Leboa',\n 'nv': 'Diné bizaad',\n 'ny': 'Chi-Chewa',\n 'nyn': 'runyankore',\n 'nys': 'Nyunga',\n 'oc': 'occitan',\n 'ojb': 'Ojibwemowin',\n 'olo': 'livvinkarjala',\n 'om': 'Oromoo',\n 'or': 'ଓଡ଼ିଆ',\n 'os': 'ирон',\n 'pa': 'ਪੰਜਾਬੀ',\n 'pag': 'Pangasinan',\n 'pam': 'Kapampangan',\n 'pap': 'Papiamentu',\n 'pcd': 'Picard',\n 'pdc': 'Deitsch',\n 'pdt': 'Plautdietsch',\n 'pfl': 'Pälzisch',\n 'pi': 'पालि',\n 'pih': 'Norfuk / Pitkern',\n 'pl': 'polski',\n 'pms': 'Piemontèis',\n 'pnb': 'پنجابی',\n 'pnt': 'Ποντιακά',\n 'prg': 'prūsiskan',\n 'ps': 'پښتو',\n 'pt': 'português',\n 'pt-br': 'português do Brasil',\n 'pwn': 'pinayuanan',\n 'qu': 'Runa Simi',\n 'qug': 'Runa shimi',\n 'rgn': 'Rumagnôl',\n 'rif': 'Tarifit',\n 'rm': 'rumantsch',\n 'rmc': 'romaňi čhib',\n 'rmy': 'romani čhib',\n 'rn': 'Kirundi',\n 'ro': 'română',\n 'roa-rup': 'armãneashti',\n 'roa-tara': 'tarandíne',\n 'rsk': 'руски',\n 'ru': 'русский',\n 'rue': 'русиньскый',\n 'rup': 'armãneashti',\n 'ruq': 'Vlăheşte',\n 'ruq-cyrl': 'Влахесте',\n 'ruq-latn': 'Vlăheşte',\n 'rw': 'Ikinyarwanda',\n 'sa': 'संस्कृतम्',\n 'sah': 'саха тыла',\n 'sat': 'ᱥᱟᱱᱛᱟᱲᱤ',\n 'sc': 'sardu',\n 'scn': 'sicilianu',\n 'sco': 'Scots',\n 'sd': 'سنڌي',\n 'sdc': 'Sassaresu',\n 'sdh': 'کوردی خوارگ',\n 'se': 'davvisámegiella',\n 'se-fi': 'davvisámegiella (Suoma bealde)',\n 'se-no': 'davvisámegiella (Norgga bealde)',\n 'se-se': 'davvisámegiella (Ruoŧa bealde)',\n 'sei': 'Cmique Itom',\n 'ses': 'Koyraboro Senni',\n 'sg': 'Sängö',\n 'sgs': 'žemaitėška',\n 'sh': 'srpskohrvatski / српскохрватски',\n 'shi': 'Taclḥit',\n 'shi-latn': 'Taclḥit',\n 'shi-tfng': 'ⵜⴰⵛⵍⵃⵉⵜ',\n 'shn': 'ၽႃႇသႃႇတႆး ',\n 'shy': 'tacawit',\n 'shy-latn': 'tacawit',\n 'si': 'සිංහල',\n 'simple': 'Simple English',\n 'sjd': 'кӣллт са̄мь кӣлл',\n 'sje': 'bidumsámegiella',\n 'sk': 'slovenčina',\n 'skr': 'سرائیکی',\n 'skr-arab': 'سرائیکی',\n 'sl': 'slovenščina',\n 'sli': 'Schläsch',\n 'sm': 'Gagana Samoa',\n 'sma': 'åarjelsaemien',\n 'smn': 'anarâškielâ',\n 'sms': 'nuõrttsääʹmǩiõll',\n 'sn': 'chiShona',\n 'so': 'Soomaaliga',\n 'sq': 'shqip',\n 'sr': 'српски / srpski',\n 'sr-ec': 'српски (ћирилица)',\n 'sr-el': 'srpski (latinica)',\n 'srn': 'Sranantongo',\n 'ss': 'SiSwati',\n 'st': 'Sesotho',\n 'stq': 'Seeltersk',\n 'sty': 'себертатар',\n 'su': 'Sunda',\n 'sv': 'svenska',\n 'sw': 'Kiswahili',\n 'szl': 'ślůnski',\n 'szy': 'Sakizaya',\n 'ta': 'தமிழ்',\n 'tay': 'Tayal',\n 'tcy': 'ತುಳು',\n 'te': 'తెలుగు',\n 'tet': 'tetun',\n 'tg': 'тоҷикӣ',\n 'tg-cyrl': 'тоҷикӣ',\n 'tg-latn': 'tojikī',\n 'th': 'ไทย',\n 'ti': 'ትግርኛ',\n 'tk': 'Türkmençe',\n 'tl': 'Tagalog',\n 'tly': 'tolışi',\n 'tly-cyrl': 'толыши',\n 'tn': 'Setswana',\n 'to': 'lea faka-Tonga',\n 'tpi': 'Tok Pisin',\n 'tr': 'Türkçe',\n 'tru': 'Ṫuroyo',\n 'trv': 'Seediq',\n 'ts': 'Xitsonga',\n 'tt': 'татарча/tatarça',\n 'tt-cyrl': 'татарча',\n 'tt-latn': 'tatarça',\n 'tum': 'chiTumbuka',\n 'tw': 'Twi',\n 'ty': 'reo tahiti',\n 'tyv': 'тыва дыл',\n 'tzm': 'ⵜⴰⵎⴰⵣⵉⵖⵜ',\n 'udm': 'удмурт',\n 'ug': 'ئۇيغۇرچە / Uyghurche',\n 'ug-arab': 'ئۇيغۇرچە',\n 'ug-latn': 'Uyghurche',\n 'uk': 'українська',\n 'ur': 'اردو',\n 'uz': 'oʻzbekcha/ўзбекча',\n 'uz-cyrl': 'ўзбекча',\n 'uz-latn': 'oʻzbekcha',\n 've': 'Tshivenda',\n 'vec': 'vèneto',\n 'vep': 'vepsän kel’',\n 'vi': 'Tiếng Việt',\n 'vls': 'West-Vlams',\n 'vmf': 'Mainfränkisch',\n 'vmw': 'emakhuwa',\n 'vo': 'Volapük',\n 'vot': 'Vaďďa',\n 'vro': 'võro',\n 'wa': 'walon',\n 'war': 'Winaray',\n 'wls': 'Fakaʻuvea',\n 'wo': 'Wolof',\n 'wuu': '吴语',\n 'xal': 'хальмг',\n 'xh': 'isiXhosa',\n 'xmf': 'მარგალური',\n 'xsy': 'saisiyat',\n 'yi': 'ייִדיש',\n 'yo': 'Yorùbá',\n 'yrl': 'Nhẽẽgatú',\n 'yue': '粵語',\n 'za': 'Vahcuengh',\n 'zea': 'Zeêuws',\n 'zgh': 'ⵜⴰⵎⴰⵣⵉⵖⵜ ⵜⴰⵏⴰⵡⴰⵢⵜ',\n 'zh': '中文',\n 'zh-classical': '文言',\n 'zh-cn': '中文（中国大陆）',\n 'zh-hans': '中文（简体）',\n 'zh-hant': '中文（繁體）',\n 'zh-hk': '中文（香港）',\n 'zh-min-nan': 'Bân-lâm-gú',\n 'zh-mo': '中文（澳門）',\n 'zh-my': '中文（马来西亚）',\n 'zh-sg': '中文（新加坡）',\n 'zh-tw': '中文（臺灣）',\n 'zh-yue': '粵語',\n 'zu': 'isiZulu'}"
     },
     "metadata": {}
    }
   ],
   "execution_count": null
  },
  {
   "cell_type": "code",
   "metadata": {
    "cell_id": "0b7384f7-0dcb-42e7-ad92-6e2e218e8a88",
    "tags": [],
    "deepnote_to_be_reexecuted": false,
    "source_hash": "2a042fa4",
    "execution_start": 1646429638334,
    "execution_millis": 2,
    "deepnote_app_coordinates": {
     "x": 0,
     "y": 93,
     "w": 12,
     "h": 5
    },
    "deepnote_cell_type": "code"
   },
   "source": "wikipedia.set_lang('de')",
   "outputs": [],
   "execution_count": null
  },
  {
   "cell_type": "code",
   "metadata": {
    "cell_id": "82c9b4d6-6580-4bb3-8f23-68ed850e49d1",
    "tags": [],
    "deepnote_to_be_reexecuted": false,
    "source_hash": "4a174196",
    "execution_start": 1646429638387,
    "execution_millis": 434,
    "deepnote_app_coordinates": {
     "x": 0,
     "y": 165,
     "w": 12,
     "h": 5
    },
    "deepnote_cell_type": "code"
   },
   "source": "swiss_german=wikipedia.page('Schweizerdeutsch')",
   "outputs": [],
   "execution_count": null
  },
  {
   "cell_type": "code",
   "metadata": {
    "cell_id": "3f57d815-e832-415c-9446-c056dff20a37",
    "tags": [],
    "deepnote_to_be_reexecuted": false,
    "source_hash": "17470670",
    "execution_start": 1646429638828,
    "execution_millis": 284,
    "deepnote_app_coordinates": {
     "x": 0,
     "y": 99,
     "w": 12,
     "h": 5
    },
    "deepnote_cell_type": "code"
   },
   "source": "print(swiss_german.summary)",
   "outputs": [
    {
     "name": "stdout",
     "text": "Schweizerdeutsch (Eigenbezeichnung Schwizerdütsch, Schwizertütsch, Schwyzerdütsch, Schwyzertü(ü)tsch und ähnlich, französisch Suisse allemand, italienisch Svizzero tedesco, rätoromanisch Tudestg svizzer) ist eine Sammelbezeichnung für die in der Deutschschweiz von allen Gesellschaftsschichten gesprochenen alemannischen Dialekte.\nÜberdacht wird das Schweizerdeutsche von der schweizerischen Varietät des Standarddeutschen, dem Schweizer Hochdeutsch (in der Schweiz: Hochdeutsch oder Schriftdeutsch), von dem es sich stark unterscheidet. Die Überdachung beschränkt sich vorwiegend auf den Wortschatz und hat keine regionalen, mehr oder weniger standardnahen Umgangssprachen hervorgebracht.\n",
     "output_type": "stream"
    }
   ],
   "execution_count": null
  },
  {
   "cell_type": "markdown",
   "source": "<a style='text-decoration:none;line-height:16px;display:flex;color:#5B5B62;padding:10px;justify-content:end;' href='https://deepnote.com?utm_source=created-in-deepnote-cell&projectId=87963b16-a4d1-425b-b23e-6fd7cc7db822' target=\"_blank\">\n<img alt='Created in deepnote.com' style='display:inline;max-height:16px;margin:0px;margin-right:7.5px;' src='data:image/svg+xml;base64,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' > </img>\nCreated in <span style='font-weight:600;margin-left:4px;'>Deepnote</span></a>",
   "metadata": {
    "tags": [],
    "created_in_deepnote_cell": true,
    "deepnote_cell_type": "markdown"
   }
  }
 ],
 "nbformat": 4,
 "nbformat_minor": 2,
 "metadata": {
  "orig_nbformat": 2,
  "deepnote": {
   "is_reactive": false
  },
  "deepnote_notebook_id": "40d0f7df-9d55-461b-a87c-7f8e2e0520ca",
  "deepnote_app_layout": "article",
  "deepnote_execution_queue": []
 }
}